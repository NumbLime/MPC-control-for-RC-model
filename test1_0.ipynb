{
  "nbformat": 4,
  "nbformat_minor": 0,
  "metadata": {
    "colab": {
      "provenance": [],
      "toc_visible": true,
      "authorship_tag": "ABX9TyNNydl3tKaEARuo8lebfD4m",
      "include_colab_link": true
    },
    "kernelspec": {
      "name": "python3",
      "display_name": "Python 3"
    },
    "language_info": {
      "name": "python"
    }
  },
  "cells": [
    {
      "cell_type": "markdown",
      "metadata": {
        "id": "view-in-github",
        "colab_type": "text"
      },
      "source": [
        "<a href=\"https://colab.research.google.com/github/NumbLime/MPC-control-for-RC-model/blob/main/test1_0.ipynb\" target=\"_parent\"><img src=\"https://colab.research.google.com/assets/colab-badge.svg\" alt=\"Open In Colab\"/></a>"
      ]
    },
    {
      "cell_type": "code",
      "source": [
        "import requests\n",
        "\n",
        "# url for the BOPTEST service\n",
        "url = 'http://api.boptest.net'\n",
        "\n",
        "# Select test case and get identifier\n",
        "testcase = 'bestest_hydronic_heat_pump'\n",
        "# Check if already started a test case and stop it if so before starting another\n",
        "try:\n",
        "  requests.put('{0}/stop/{1}'.format(url, testid))\n",
        "except:\n",
        "  pass\n",
        "# Select and start a new test case\n",
        "testid = \\\n",
        "requests.post('{0}/testcases/{1}/select'.format(url,testcase)).json()['testid']"
      ],
      "metadata": {
        "id": "eaDiePu3LwD7"
      },
      "execution_count": 33,
      "outputs": []
    },
    {
      "cell_type": "code",
      "source": [
        "# Get test case name\n",
        "name = requests.get('{0}/name/{1}'.format(url, testid)).json()['payload']\n",
        "print(name)\n",
        "\n",
        "# Get BOPTEST version\n",
        "version = requests.get('{0}/version'.format(url)).json()['payload']\n",
        "print(version)"
      ],
      "metadata": {
        "colab": {
          "base_uri": "https://localhost:8080/"
        },
        "id": "EsLTucl0L6i_",
        "outputId": "e4207e4e-9eb3-403b-d09a-1b39926fff7c"
      },
      "execution_count": 34,
      "outputs": [
        {
          "output_type": "stream",
          "name": "stdout",
          "text": [
            "{'name': 'bestest_hydronic_heat_pump'}\n",
            "{'version': '0.6.0', 'service-version': '0.4.0'}\n"
          ]
        }
      ]
    },
    {
      "cell_type": "code",
      "source": [
        "# Get inputs available\n",
        "inputs = requests.get('{0}/inputs/{1}'.format(url, testid)).json()['payload']\n",
        "print('TEST CASE INPUTS ---------------------------------------------')\n",
        "print(inputs.keys())\n",
        "# Get measurements available\n",
        "print('TEST CASE MEASUREMENTS ---------------------------------------')\n",
        "measurements = requests.get('{0}/measurements/{1}'.format(url, testid)).json()['payload']\n",
        "print(measurements.keys())"
      ],
      "metadata": {
        "colab": {
          "base_uri": "https://localhost:8080/"
        },
        "id": "UzR2V3lqMEVh",
        "outputId": "2581f37b-9d5a-42e6-9100-a9b15da4c021"
      },
      "execution_count": 35,
      "outputs": [
        {
          "output_type": "stream",
          "name": "stdout",
          "text": [
            "TEST CASE INPUTS ---------------------------------------------\n",
            "dict_keys(['oveFan_activate', 'oveFan_u', 'oveHeaPumY_activate', 'oveHeaPumY_u', 'ovePum_activate', 'ovePum_u', 'oveTSet_activate', 'oveTSet_u'])\n",
            "TEST CASE MEASUREMENTS ---------------------------------------\n",
            "dict_keys(['reaCO2RooAir_y', 'reaCOP_y', 'reaPFan_y', 'reaPHeaPum_y', 'reaPPumEmi_y', 'reaQFloHea_y', 'reaQHeaPumCon_y', 'reaQHeaPumEva_y', 'reaTRet_y', 'reaTSetCoo_y', 'reaTSetHea_y', 'reaTSup_y', 'reaTZon_y', 'weaSta_reaWeaCeiHei_y', 'weaSta_reaWeaCloTim_y', 'weaSta_reaWeaHDifHor_y', 'weaSta_reaWeaHDirNor_y', 'weaSta_reaWeaHGloHor_y', 'weaSta_reaWeaHHorIR_y', 'weaSta_reaWeaLat_y', 'weaSta_reaWeaLon_y', 'weaSta_reaWeaNOpa_y', 'weaSta_reaWeaNTot_y', 'weaSta_reaWeaPAtm_y', 'weaSta_reaWeaRelHum_y', 'weaSta_reaWeaSolAlt_y', 'weaSta_reaWeaSolDec_y', 'weaSta_reaWeaSolHouAng_y', 'weaSta_reaWeaSolTim_y', 'weaSta_reaWeaSolZen_y', 'weaSta_reaWeaTBlaSky_y', 'weaSta_reaWeaTDewPoi_y', 'weaSta_reaWeaTDryBul_y', 'weaSta_reaWeaTWetBul_y', 'weaSta_reaWeaWinDir_y', 'weaSta_reaWeaWinSpe_y'])\n"
          ]
        }
      ]
    },
    {
      "cell_type": "code",
      "source": [
        "y = requests.put('{0}/initialize/{1}'.format(url, testid),\n",
        "                 json={'start_time':   31*24*3600,\n",
        "                       'warmup_period': 7*24*3600}).json()['payload']\n",
        "print(y['reaTZon_y']-273.15)\n",
        "print(y['time']/24/3600)"
      ],
      "metadata": {
        "colab": {
          "base_uri": "https://localhost:8080/"
        },
        "id": "gVhm-ZxoMNhh",
        "outputId": "14140176-f4f7-4575-ad7c-470522ee2571"
      },
      "execution_count": 36,
      "outputs": [
        {
          "output_type": "stream",
          "name": "stdout",
          "text": [
            "21.364471442540776\n",
            "31.0\n"
          ]
        }
      ]
    },
    {
      "cell_type": "code",
      "source": [
        "scenario_return = requests.put('{0}/scenario/{1}'.format(url, testid),\n",
        "                  json={'time_period':'peak_heat_day',\n",
        "                        'electricity_price':'dynamic'}).json()['payload']"
      ],
      "metadata": {
        "id": "mQJWA4uvMchx"
      },
      "execution_count": 37,
      "outputs": []
    },
    {
      "cell_type": "code",
      "source": [
        "y = scenario_return['time_period']\n",
        "start_time_days = y['time']/24/3600\n",
        "print(y['reaTZon_y']-273.15)\n",
        "print(y['time']/24/3600)\n",
        "print(scenario_return['electricity_price'])"
      ],
      "metadata": {
        "colab": {
          "base_uri": "https://localhost:8080/"
        },
        "id": "gWeSCqAlMjFr",
        "outputId": "f1975ea8-9611-4f02-d819-0002dbb7b054"
      },
      "execution_count": 38,
      "outputs": [
        {
          "output_type": "stream",
          "name": "stdout",
          "text": [
            "21.3144011115877\n",
            "16.0\n",
            "dynamic\n"
          ]
        }
      ]
    },
    {
      "cell_type": "code",
      "source": [
        "# Get default control step\n",
        "step = requests.get('{0}/step/{1}'.format(url, testid)).json()['payload']\n",
        "print('DEFAULT STEP PERIOD [seconds] --------------------------------')\n",
        "print(step)\n",
        "# Set the control step\n",
        "requests.put('{0}/step/{1}'.format(url, testid), json={'step':step})"
      ],
      "metadata": {
        "colab": {
          "base_uri": "https://localhost:8080/"
        },
        "id": "lfRzpKTYMqI3",
        "outputId": "b3ba9e38-2dd7-4bb9-a041-7f2feb18c415"
      },
      "execution_count": 39,
      "outputs": [
        {
          "output_type": "stream",
          "name": "stdout",
          "text": [
            "DEFAULT STEP PERIOD [seconds] --------------------------------\n",
            "3600\n"
          ]
        },
        {
          "output_type": "execute_result",
          "data": {
            "text/plain": [
              "<Response [200]>"
            ]
          },
          "metadata": {},
          "execution_count": 39
        }
      ]
    },
    {
      "cell_type": "code",
      "source": [
        "y = requests.post('{0}/advance/{1}'.format(url, testid)).json()['payload']\n",
        "print(y['reaTZon_y']-273.15)\n",
        "print(y['time']/24/3600)"
      ],
      "metadata": {
        "colab": {
          "base_uri": "https://localhost:8080/"
        },
        "id": "PvUluNz-M1rW",
        "outputId": "fb02a4aa-d111-4d26-eff3-958b24187b47"
      },
      "execution_count": 40,
      "outputs": [
        {
          "output_type": "stream",
          "name": "stdout",
          "text": [
            "21.40640845131327\n",
            "16.041666666666668\n"
          ]
        }
      ]
    },
    {
      "cell_type": "code",
      "source": [
        "u = {'oveHeaPumY_u':0.5,\n",
        "     'oveHeaPumY_activate': 1}\n",
        "y = requests.post('{0}/advance/{1}'.format(url, testid), json=u).json()['payload']\n",
        "print(y['reaTZon_y']-273.15)\n",
        "print(y['time']/24/3600)"
      ],
      "metadata": {
        "colab": {
          "base_uri": "https://localhost:8080/"
        },
        "id": "EjkNec8bNA3f",
        "outputId": "270c8635-0543-4647-8c8e-7cba62d7f498"
      },
      "execution_count": 41,
      "outputs": [
        {
          "output_type": "stream",
          "name": "stdout",
          "text": [
            "21.415462614705405\n",
            "16.083333333333332\n"
          ]
        }
      ]
    },
    {
      "cell_type": "code",
      "source": [
        "u = {'oveHeaPumY_u':0.9,\n",
        "     'oveHeaPumY_activate': 1}\n",
        "y = requests.post('{0}/advance/{1}'.format(url, testid), json=u).json()['payload']"
      ],
      "metadata": {
        "id": "ktwdeHsmNSzS"
      },
      "execution_count": 42,
      "outputs": []
    },
    {
      "cell_type": "code",
      "source": [
        "u = {'oveHeaPumY_u':0.2,\n",
        "     'oveHeaPumY_activate': 1}\n",
        "y = requests.post('{0}/advance/{1}'.format(url, testid), json=u).json()['payload']"
      ],
      "metadata": {
        "id": "nEjDypbNNi9n"
      },
      "execution_count": 43,
      "outputs": []
    },
    {
      "cell_type": "code",
      "source": [
        "import numpy as np\n",
        "import matplotlib.pyplot as plt\n",
        "\n",
        "args = {'point_names':['reaTZon_y'],'start_time':-365*24*3600, 'final_time':365*24*3600}\n",
        "res = requests.put('{0}/results/{1}'.format(url, testid), json=args).json()['payload']\n",
        "plt.plot(np.asarray(res['time'])/24/3600, np.asarray(res['reaTZon_y'])-273.15)\n",
        "plt.xlabel('Time from beginning of the year (days)')\n",
        "plt.ylabel('Zone operative temperature (degC)')\n",
        "plt.axvline(start_time_days, linestyle='--', color='r')"
      ],
      "metadata": {
        "colab": {
          "base_uri": "https://localhost:8080/",
          "height": 466
        },
        "id": "QGUCjpxHNK62",
        "outputId": "bf7ca409-1ded-4a26-ff83-f7b80461da84"
      },
      "execution_count": 44,
      "outputs": [
        {
          "output_type": "execute_result",
          "data": {
            "text/plain": [
              "<matplotlib.lines.Line2D at 0x7cec349413f0>"
            ]
          },
          "metadata": {},
          "execution_count": 44
        },
        {
          "output_type": "display_data",
          "data": {
            "text/plain": [
              "<Figure size 640x480 with 1 Axes>"
            ],
            "image/png": "[encoded data removed]"
          },
          "metadata": {}
        }
      ]
    },
    {
      "cell_type": "code",
      "source": [
        "requests.get('{0}/kpi/{1}'.format(url, testid)).json()['payload']"
      ],
      "metadata": {
        "colab": {
          "base_uri": "https://localhost:8080/"
        },
        "id": "UNDNtbrvN7NQ",
        "outputId": "70cf8872-857b-4dd7-b28e-2b2963302414"
      },
      "execution_count": 45,
      "outputs": [
        {
          "output_type": "execute_result",
          "data": {
            "text/plain": [
              "{'tdis_tot': 0,\n",
              " 'idis_tot': 0,\n",
              " 'ener_tot': 0.057149858113444155,\n",
              " 'cost_tot': 0.013618811188433742,\n",
              " 'emis_tot': 0.009544026304945176,\n",
              " 'pele_tot': 0.01824195421498472,\n",
              " 'pgas_tot': None,\n",
              " 'pdih_tot': None,\n",
              " 'time_rat': 2.8669922440140337e-05}"
            ]
          },
          "metadata": {},
          "execution_count": 45
        }
      ]
    },
    {
      "cell_type": "code",
      "source": [
        "# Reinitialize the test scenario\n",
        "requests.put('{0}/scenario/{1}'.format(url, testid),\n",
        "              json={'time_period':'peak_heat_day',\n",
        "                    'electricity_price':'dynamic'}).json()\n",
        "# Set the control step to one year\n",
        "requests.put('{0}/step/{1}'.format(url, testid), json={'step':365*24*3600})\n",
        "# Advance the simulation with no control overwrite\n",
        "requests.post('{0}/advance/{1}'.format(url, testid), json={}).json()\n",
        "# Get and print the KPIs\n",
        "kpis_bas = requests.get('{0}/kpi/{1}'.format(url, testid)).json()['payload']\n",
        "kpis_bas"
      ],
      "metadata": {
        "colab": {
          "base_uri": "https://localhost:8080/"
        },
        "id": "V5wS3rKgSJ50",
        "outputId": "f41e1d38-7fe4-4006-b71f-008e74925283"
      },
      "execution_count": 46,
      "outputs": [
        {
          "output_type": "execute_result",
          "data": {
            "text/plain": [
              "{'tdis_tot': 8.381692942513078,\n",
              " 'idis_tot': 0,\n",
              " 'ener_tot': 3.4777725656013834,\n",
              " 'cost_tot': 0.8827810790417875,\n",
              " 'emis_tot': 0.5807880184554309,\n",
              " 'pele_tot': 0.01891307030662192,\n",
              " 'pgas_tot': None,\n",
              " 'pdih_tot': None,\n",
              " 'time_rat': 2.691808152416525e-06}"
            ]
          },
          "metadata": {},
          "execution_count": 46
        }
      ]
    },
    {
      "cell_type": "code",
      "source": [
        "import pandas as pd\n",
        "def get_and_plot_results(testid, start_time, final_time):\n",
        "    '''\n",
        "    Get and plot result key trajectories from the test case.\n",
        "\n",
        "    The key trajectories are zone operative temperature, zone heating and\n",
        "    cooling set points, heat pump electrical power, outside air dry bulb\n",
        "    temperature, and outside direct normal solar irradiation.\n",
        "\n",
        "    Parameters\n",
        "    ----------\n",
        "    testid : str\n",
        "      The testid for the test case.\n",
        "    start_time : float or int\n",
        "      The start time in seconds from the beginning of the year for data.\n",
        "    final_time : float or int\n",
        "      The final time in seconds from the beginning of the year for data.\n",
        "\n",
        "    Returns\n",
        "    -------\n",
        "    None\n",
        "\n",
        "    '''\n",
        "    df_res = pd.DataFrame()\n",
        "    points = ['reaTZon_y', 'reaTSetHea_y', 'reaTSetCoo_y', 'oveHeaPumY_u',\n",
        "              'weaSta_reaWeaTDryBul_y', 'weaSta_reaWeaHDirNor_y']\n",
        "    args = {'point_names':points,\n",
        "            'start_time':start_time,\n",
        "            'final_time':final_time}\n",
        "    res = requests.put('{0}/results/{1}'.format(url, testid),\n",
        "                        json=args).json()['payload']\n",
        "    df_res = pd.DataFrame(data=res)\n",
        "    df_res.set_index('time')\n",
        "    plt.close()\n",
        "    _, axs = plt.subplots(3, sharex=True, figsize=(10,8))\n",
        "    x_time = df_res.index/3600./24.\n",
        "    # Plot operative temperature\n",
        "    axs[0].plot(x_time, df_res['reaTZon_y']    - 273.15, 'darkorange',\n",
        "                linestyle='-', linewidth=0.8, label='$T_z$')\n",
        "    axs[0].plot(x_time, df_res['reaTSetHea_y'] - 273.15, 'gray',\n",
        "                linewidth=0.8, label='Comfort setp.')\n",
        "    axs[0].plot(x_time, df_res['reaTSetCoo_y'] - 273.15, 'gray',\n",
        "                linewidth=0.8, label='_nolegend_')\n",
        "    axs[0].set_yticks(np.arange(15, 31, 5))\n",
        "    axs[0].set_ylabel('Operative\\ntemperature\\n($^\\circ$C)')\n",
        "    axs[0].legend()\n",
        "    # Plot heat pump electrical power\n",
        "    axs[1].plot(x_time, df_res['oveHeaPumY_u'], 'darkorange',\n",
        "                linestyle='-', linewidth=0.8, label='$P_{hp}$')\n",
        "    axs[1].set_ylabel('Heat pump\\nmodulation\\nsignal\\n( - )')\n",
        "    axs[1].legend()\n",
        "    # Plot disturbances\n",
        "    axs[2].plot(x_time, df_res['weaSta_reaWeaTDryBul_y'] - 273.15, 'royalblue',\n",
        "                linestyle='-', linewidth=0.8, label='$T_a$')\n",
        "    axs[2].set_ylabel('Ambient\\ntemperature\\n($^\\circ$C)')\n",
        "    axs[2].set_yticks(np.arange(-5, 16, 5))\n",
        "    axs[2].legend(loc='upper left')\n",
        "    axs[2].set_xlabel('Day of the year')\n",
        "    axt = axs[2].twinx()\n",
        "    axt.plot(x_time, df_res['weaSta_reaWeaHDirNor_y'], 'gold',\n",
        "             linestyle='-', linewidth=0.8, label='$\\dot{Q}_{rad}$')\n",
        "    axt.set_ylabel('Solar\\nirradiation\\n($W$)')\n",
        "    axt.legend(loc='upper right')\n",
        "    plt.show()\n",
        "\n",
        "    return None"
      ],
      "metadata": {
        "id": "oUf525VwSdg4"
      },
      "execution_count": 47,
      "outputs": []
    },
    {
      "cell_type": "code",
      "source": [
        "get_and_plot_results(testid, start_time=start_time_days*24*3600, final_time=365*24*3600)"
      ],
      "metadata": {
        "id": "oW3tUxoUSnOt"
      },
      "execution_count": null,
      "outputs": []
    },
    {
      "cell_type": "code",
      "source": [
        "# Initialize scenario\n",
        "y = requests.put('{0}/scenario/{1}'.format(url, testid),\n",
        "                 json={'time_period':'peak_heat_day',\n",
        "                       'electricity_price':'dynamic'}).json()['payload']['time_period']\n",
        "# Set control step\n",
        "requests.put('{0}/step/{1}'.format(url, testid), json={'step':3600})\n",
        "# Instantiate controller\n",
        "con = Controller_Proportional(TSet=273.15+21, k_p=5.)\n",
        "# Simulation loop\n",
        "from IPython.display import clear_output\n",
        "while y:\n",
        "    # Clear the display output at each step\n",
        "    clear_output(wait=True)\n",
        "    # Print the current operative temperature and simulation time\n",
        "    print('-------------------------------------------------------------------')\n",
        "    print('Operative temperature [degC]  = {:.2f}'.format(y['reaTZon_y']-273.15))\n",
        "    simulation_time_days = y['time']/3600/24\n",
        "    print('Simulation time [elapsed days] = {:.2f}'.format((simulation_time_days - \\\n",
        "                                                    start_time_days)))\n",
        "    print('-------------------------------------------------------------------')\n",
        "    # Compute control signal\n",
        "    u = con.compute_control(y)\n",
        "    # Advance simulation with control signal\n",
        "    y = requests.post('{0}/advance/{1}'.format(url, testid), json=u).json()['payload']\n"
      ],
      "metadata": {
        "colab": {
          "base_uri": "https://localhost:8080/"
        },
        "id": "SInStj_sTN9B",
        "outputId": "080b56cc-82aa-4ce1-cbf4-bd5ed0996f30"
      },
      "execution_count": 50,
      "outputs": [
        {
          "output_type": "stream",
          "name": "stdout",
          "text": [
            "-------------------------------------------------------------------\n",
            "Operative temperature [degC]  = 20.91\n",
            "Simulation time [elapsed days] = 14.00\n",
            "-------------------------------------------------------------------\n"
          ]
        }
      ]
    },
    {
      "cell_type": "code",
      "source": [
        "get_and_plot_results(testid, start_time=start_time_days*24*3600, final_time=365*24*3600)"
      ],
      "metadata": {
        "id": "aXpw3m1nTjzC"
      },
      "execution_count": null,
      "outputs": []
    },
    {
      "cell_type": "code",
      "source": [
        "kpis_con = requests.get('{0}/kpi/{1}'.format(url, testid)).json()['payload']\n",
        "kpis_con"
      ],
      "metadata": {
        "colab": {
          "base_uri": "https://localhost:8080/"
        },
        "id": "6skc9V2ETydA",
        "outputId": "da5612ae-ee75-4d57-f555-7c4303d03549"
      },
      "execution_count": 52,
      "outputs": [
        {
          "output_type": "execute_result",
          "data": {
            "text/plain": [
              "{'tdis_tot': 19.94343344356707,\n",
              " 'idis_tot': 0,\n",
              " 'ener_tot': 2.775098374530354,\n",
              " 'cost_tot': 0.7053934625011848,\n",
              " 'emis_tot': 0.4634414285465692,\n",
              " 'pele_tot': 0.020673254360232787,\n",
              " 'pgas_tot': None,\n",
              " 'pdih_tot': None,\n",
              " 'time_rat': 0.00022757685070496907}"
            ]
          },
          "metadata": {},
          "execution_count": 52
        }
      ]
    },
    {
      "cell_type": "code",
      "source": [
        "kpis_bas"
      ],
      "metadata": {
        "colab": {
          "base_uri": "https://localhost:8080/"
        },
        "id": "7paXk0j4T1T5",
        "outputId": "72e3b661-9f28-4e9e-985e-4e8346b361b3"
      },
      "execution_count": 53,
      "outputs": [
        {
          "output_type": "execute_result",
          "data": {
            "text/plain": [
              "{'tdis_tot': 8.381692942513078,\n",
              " 'idis_tot': 0,\n",
              " 'ener_tot': 3.4777725656013834,\n",
              " 'cost_tot': 0.8827810790417875,\n",
              " 'emis_tot': 0.5807880184554309,\n",
              " 'pele_tot': 0.01891307030662192,\n",
              " 'pgas_tot': None,\n",
              " 'pdih_tot': None,\n",
              " 'time_rat': 2.691808152416525e-06}"
            ]
          },
          "metadata": {},
          "execution_count": 53
        }
      ]
    },
    {
      "cell_type": "code",
      "source": [
        "# Set to true if want to stop test case\n",
        "# Note: following code cells will not work if test case is stopped and not restarted first\n",
        "stop = True\n",
        "if stop:\n",
        "  requests.put('{0}/stop/{1}'.format(url, testid))"
      ],
      "metadata": {
        "id": "pCMci10bVREg"
      },
      "execution_count": 54,
      "outputs": []
    },
    {
      "cell_type": "markdown",
      "source": [
        "# 新段落"
      ],
      "metadata": {
        "id": "5g5Qqy1JS_rb"
      }
    },
    {
      "cell_type": "code",
      "source": [
        "class Controller_Proportional(object):\n",
        "\n",
        "    def __init__(self, TSet=273.15+21, k_p=10.):\n",
        "        '''Constructor.\n",
        "\n",
        "        Parameters\n",
        "        ----------\n",
        "        TSet : float, optional\n",
        "            Temperature set-point in Kelvin.\n",
        "        k_p : float, optional\n",
        "            Proportional gain.\n",
        "\n",
        "        '''\n",
        "\n",
        "        self.TSet = TSet\n",
        "        self.k_p  = k_p\n",
        "\n",
        "    def compute_control(self, y):\n",
        "        '''Compute the control input from the measurement.\n",
        "\n",
        "        Parameters\n",
        "        ----------\n",
        "        y : dict\n",
        "            Contains the current values of the measurements.\n",
        "            {<measurement_name>:<measurement_value>}\n",
        "\n",
        "        Returns\n",
        "        -------\n",
        "        u : dict\n",
        "            Defines the control input to be used for the next step.\n",
        "            {<input_name> : <input_value>}\n",
        "\n",
        "        '''\n",
        "\n",
        "        # Compute control\n",
        "        if y['reaTZon_y']<self.TSet:\n",
        "            e = self.TSet - y['reaTZon_y']\n",
        "        else:\n",
        "            e = 0\n",
        "\n",
        "        value = self.k_p*e\n",
        "        u = {'oveHeaPumY_u':value,\n",
        "             'oveHeaPumY_activate': 1}\n",
        "\n",
        "        return u"
      ],
      "metadata": {
        "id": "oRVPwUh0TC3Z"
      },
      "execution_count": 49,
      "outputs": []
    }
  ]
}