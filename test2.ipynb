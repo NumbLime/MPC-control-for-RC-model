{
  "nbformat": 4,
  "nbformat_minor": 0,
  "metadata": {
    "colab": {
      "provenance": [],
      "authorship_tag": "ABX9TyMUrPilY1pveLeEPyFVMrm0",
      "include_colab_link": true
    },
    "kernelspec": {
      "name": "python3",
      "display_name": "Python 3"
    },
    "language_info": {
      "name": "python"
    }
  },
  "cells": [
    {
      "cell_type": "markdown",
      "metadata": {
        "id": "view-in-github",
        "colab_type": "text"
      },
      "source": [
        "<a href=\"https://colab.research.google.com/github/NumbLime/MPC-control-for-RC-model/blob/main/test2.ipynb\" target=\"_parent\"><img src=\"https://colab.research.google.com/assets/colab-badge.svg\" alt=\"Open In Colab\"/></a>"
      ]
    },
    {
      "cell_type": "code",
      "execution_count": 10,
      "metadata": {
        "id": "9QPv5ZigfTKq"
      },
      "outputs": [],
      "source": [
        "import requests\n",
        "\n",
        "# url for the BOPTEST service\n",
        "url = 'http://api.boptest.net'\n",
        "\n",
        "# Select test case and get identifier\n",
        "testcase = 'bestest_hydronic_heat_pump'\n",
        "# Check if already started a test case and stop it if so before starting another\n",
        "try:\n",
        "  requests.put('{0}/stop/{1}'.format(url, testid))\n",
        "except:\n",
        "  pass\n",
        "# Select and start a new test case\n",
        "testid = \\\n",
        "requests.post('{0}/testcases/{1}/select'.format(url,testcase)).json()['testid']"
      ]
    },
    {
      "cell_type": "code",
      "source": [
        "class Controller_Proportional(object):\n",
        "\n",
        "    def __init__(self, TSet=273.15+21, k_p=10.):\n",
        "        '''Constructor.\n",
        "\n",
        "        Parameters\n",
        "        ----------\n",
        "        TSet : float, optional\n",
        "            Temperature set-point in Kelvin.\n",
        "        k_p : float, optional\n",
        "            Proportional gain.\n",
        "\n",
        "        '''\n",
        "\n",
        "        self.TSet = TSet\n",
        "        self.k_p  = k_p\n",
        "\n",
        "    def compute_control(self, y):\n",
        "        '''Compute the control input from the measurement.\n",
        "\n",
        "        Parameters\n",
        "        ----------\n",
        "        y : dict\n",
        "            Contains the current values of the measurements.\n",
        "            {<measurement_name>:<measurement_value>}\n",
        "\n",
        "        Returns\n",
        "        -------\n",
        "        u : dict\n",
        "            Defines the control input to be used for the next step.\n",
        "            {<input_name> : <input_value>}\n",
        "\n",
        "        '''\n",
        "\n",
        "        # Compute control\n",
        "        if y['reaTZon_y']<self.TSet:\n",
        "            e = self.TSet - y['reaTZon_y']\n",
        "        else:\n",
        "            e = 0\n",
        "\n",
        "        value = self.k_p*e\n",
        "        u = {'oveHeaPumY_u':value,\n",
        "             'oveHeaPumY_activate': 1}\n",
        "\n",
        "        return u"
      ],
      "metadata": {
        "id": "pGQEyTtZf79D"
      },
      "execution_count": 11,
      "outputs": []
    },
    {
      "cell_type": "code",
      "source": [
        "# Initialize scenario\n",
        "y = requests.put('{0}/scenario/{1}'.format(url, testid),\n",
        "                 json={'time_period':'peak_heat_day',\n",
        "                       'electricity_price':'dynamic'}).json()['payload']['time_period']\n",
        "# Set control step\n",
        "requests.put('{0}/step/{1}'.format(url, testid), json={'step':3600})\n",
        "# Instantiate controller\n",
        "con = Controller_Proportional(TSet=273.15+21, k_p=5.)\n",
        "\n",
        "# for model buliding\n",
        "data_for_model = {\n",
        "    \"Operative temperature\": [],\n",
        "    \"Wet bulb temperature\": [],\n",
        "    \"Horizontal infrared irradiation\": [],\n",
        "    \"control signal\": []\n",
        "}\n",
        "x0 = round(y['reaTZon_y']-273.15,2)\n",
        "# Simulation loop\n",
        "from IPython.display import clear_output\n",
        "while y:\n",
        "    # Clear the display output at each step\n",
        "    clear_output(wait=True)\n",
        "    # Print the current operative temperature and simulation time\n",
        "    print('-------------------------------------------------------------------')\n",
        "    print('Operative temperature [degC]  = {:.2f}'.format(y['reaTZon_y']-273.15))\n",
        "    print('Wet bulb temperature [degC]  = {:.2f}'.format(y['weaSta_reaWeaTWetBul_y']-273.15))\n",
        "    print('Horizontal infrared irradiation [W/m2]  = {:.2f}'.format(y['weaSta_reaWeaHHorIR_y']))\n",
        "    # print('InternalGains [W]  = {:.2f}'.format(y['InternalGainsCon[1]']))\n",
        "    simulation_time_days = y['time']/3600/24\n",
        "    start_time_days = 0\n",
        "    print('Simulation time [elapsed days] = {:.2f}'.format((simulation_time_days - \\\n",
        "                                                    start_time_days)))\n",
        "    print('-------------------------------------------------------------------')\n",
        "    # Compute control signal\n",
        "    u = con.compute_control(y)\n",
        "    print(u)\n",
        "    data_for_model[\"Operative temperature\"].append(round(y['reaTZon_y']-273.15,2))\n",
        "    data_for_model[\"Wet bulb temperature\"].append(round(y['weaSta_reaWeaTWetBul_y']-273.15,2))\n",
        "    data_for_model[\"Horizontal infrared irradiation\"].append(round(y['weaSta_reaWeaHHorIR_y'],2))\n",
        "    data_for_model[\"control signal\"].append(u)\n",
        "    # Advance simulation with control signal\n",
        "    y = requests.post('{0}/advance/{1}'.format(url, testid), json=u).json()['payload']\n"
      ],
      "metadata": {
        "colab": {
          "base_uri": "https://localhost:8080/"
        },
        "id": "0cC6Hzc5foFk",
        "outputId": "65fce2b8-2114-4d85-c961-8e3031046b48"
      },
      "execution_count": 12,
      "outputs": [
        {
          "output_type": "stream",
          "name": "stdout",
          "text": [
            "-------------------------------------------------------------------\n",
            "Operative temperature [degC]  = 20.91\n",
            "Wet bulb temperature [degC]  = -0.85\n",
            "Horizontal infrared irradiation [W/m2]  = 247.00\n",
            "Simulation time [elapsed days] = 30.00\n",
            "-------------------------------------------------------------------\n",
            "{'oveHeaPumY_u': 0.4265474362313171, 'oveHeaPumY_activate': 1}\n"
          ]
        }
      ]
    },
    {
      "cell_type": "code",
      "source": [
        "import numpy as np\n",
        "from scipy.optimize import minimize\n",
        "\n",
        "# 状态空间模型\n",
        "def state_space_model(params, x0, u, t, process_noise_std=0.1, measurement_noise_std=0.1):\n",
        "    A = np.array([[params[0]]])\n",
        "    B = np.array([params[1:4]]).T\n",
        "    # E = np.array([[params[9], params[10]], [params[11], params[12]]])\n",
        "\n",
        "    x = np.zeros(len(t))\n",
        "    y = np.zeros(len(t))\n",
        "    x[:, 0] = x0\n",
        "\n",
        "    for i in range(1, len(t)):\n",
        "        w_t = np.random.normal(0, process_noise_std, size=(2,))\n",
        "        v_t = np.random.normal(0, measurement_noise_std)\n",
        "        x[:, i] = A @ x[:, i-1] + B.flatten() * u[i-1] + E @ w_t\n",
        "        y[i] = x[i] + D * u[i] + v_t\n",
        "\n",
        "    return y\n",
        "\n",
        "# 误差函数\n",
        "def error_function(params, x0, u, y_true, t):\n",
        "    y_pred = state_space_model(params, x0, u, t)\n",
        "    return np.sum((y_true - y_pred) ** 2)\n",
        "\n",
        "# 示例数据\n",
        "t = np.linspace(0, 10, 100)\n",
        "u = np.sin(t)  # 输入\n",
        "y_true = 0.5 * np.sin(t)  # 示例真实输出（可加入噪声）\n",
        "\n",
        "# 初始状态\n",
        "x0 = np.array([0, 0])\n",
        "\n",
        "# 初始参数猜测\n",
        "initial_guess = np.random.rand(13)\n",
        "\n",
        "# 最小化误差函数\n",
        "result = minimize(error_function, initial_guess, args=(x0, u, y_true, t))\n",
        "optimal_params = result.x\n",
        "\n",
        "print(\"Optimal parameters:\", optimal_params)\n"
      ],
      "metadata": {
        "colab": {
          "base_uri": "https://localhost:8080/"
        },
        "id": "abbmMXjXqhyd",
        "outputId": "40d9e12d-bed5-4cd7-919b-e143f7920b7f"
      },
      "execution_count": 13,
      "outputs": [
        {
          "output_type": "stream",
          "name": "stderr",
          "text": [
            "<ipython-input-13-60e3b875fbee>:20: DeprecationWarning: Conversion of an array with ndim > 0 to a scalar is deprecated, and will error in future. Ensure you extract a single element from your array before performing this operation. (Deprecated NumPy 1.25.)\n",
            "  y[i] = C @ x[:, i] + D * u[i] + v_t\n",
            "<ipython-input-13-60e3b875fbee>:20: DeprecationWarning: Conversion of an array with ndim > 0 to a scalar is deprecated, and will error in future. Ensure you extract a single element from your array before performing this operation. (Deprecated NumPy 1.25.)\n",
            "  y[i] = C @ x[:, i] + D * u[i] + v_t\n",
            "<ipython-input-13-60e3b875fbee>:20: DeprecationWarning: Conversion of an array with ndim > 0 to a scalar is deprecated, and will error in future. Ensure you extract a single element from your array before performing this operation. (Deprecated NumPy 1.25.)\n",
            "  y[i] = C @ x[:, i] + D * u[i] + v_t\n"
          ]
        },
        {
          "output_type": "stream",
          "name": "stdout",
          "text": [
            "Optimal parameters: [0.98359052 0.09314188 0.29490141 0.43678552 0.0806308  0.3150859\n",
            " 0.21625919 0.63243552 0.56231254 0.20067858 0.84664565 0.51851574\n",
            " 0.35398422]\n"
          ]
        },
        {
          "output_type": "stream",
          "name": "stderr",
          "text": [
            "<ipython-input-13-60e3b875fbee>:20: DeprecationWarning: Conversion of an array with ndim > 0 to a scalar is deprecated, and will error in future. Ensure you extract a single element from your array before performing this operation. (Deprecated NumPy 1.25.)\n",
            "  y[i] = C @ x[:, i] + D * u[i] + v_t\n"
          ]
        }
      ]
    },
    {
      "cell_type": "code",
      "source": [
        "# Get available forecast points\n",
        "res = requests.get('{0}/forecast_points/{1}'.format(url, testid)).json()['payload']\n",
        "print(res)\n",
        "# Get forecast data for a subset of example variables\n",
        "points = ['TDryBul', 'PriceElectricPowerDynamic', 'Occupancy[1]',\n",
        "          'UpperSetp[1]', 'LowerSetp[1]']\n",
        "w = requests.put('{0}/forecast/{1}'.format(url, testid),\n",
        "                  json={'point_names':points, 'horizon':6*3600, 'interval':1*3600}).json()['payload']\n",
        "print(w)"
      ],
      "metadata": {
        "colab": {
          "base_uri": "https://localhost:8080/"
        },
        "id": "6UyzOAvwkluZ",
        "outputId": "2bfb7acf-f66d-4327-ee69-241a8cac644b"
      },
      "execution_count": 7,
      "outputs": [
        {
          "output_type": "stream",
          "name": "stdout",
          "text": [
            "{'PriceElectricPowerConstant': {'Description': 'Completely constant electricity price', 'Unit': '($/Euro)/kWh'}, 'PriceElectricPowerDynamic': {'Description': 'Electricity price for a day/night tariff', 'Unit': '($/Euro)/kWh'}, 'PriceElectricPowerHighlyDynamic': {'Description': 'Spot electricity price', 'Unit': '($/Euro)/kWh'}, 'pAtm': {'Description': 'Atmospheric pressure', 'Unit': 'Pa'}, 'lon': {'Description': 'Longitude of the location', 'Unit': 'rad'}, 'lat': {'Description': 'Latitude of the location', 'Unit': 'rad'}, 'TDewPoi': {'Description': 'Dew point temperature', 'Unit': 'K'}, 'HDirNor': {'Description': 'Direct normal radiation', 'Unit': 'W/m2'}, 'HDifHor': {'Description': 'Horizontal diffuse solar radiation', 'Unit': 'W/m2'}, 'HGloHor': {'Description': 'Horizontal global radiation', 'Unit': 'W/m2'}, 'relHum': {'Description': 'Relative Humidity', 'Unit': '1'}, 'nTot': {'Description': 'Total sky Cover [0, 1]', 'Unit': '1'}, 'ceiHei': {'Description': 'Ceiling height', 'Unit': 'm'}, 'winSpe': {'Description': 'Wind speed', 'Unit': 'm/s'}, 'winDir': {'Description': 'Wind direction', 'Unit': 'rad'}, 'nOpa': {'Description': 'Opaque sky cover [0, 1]', 'Unit': '1'}, 'TBlaSky': {'Description': 'Black Sky temperature', 'Unit': 'K'}, 'HHorIR': {'Description': 'Horizontal infrared irradiation', 'Unit': 'W/m2'}, 'cloTim': {'Description': 'One-based day number in seconds', 'Unit': 's'}, 'solZen': {'Description': 'Zenith angle', 'Unit': 'rad'}, 'solAlt': {'Description': 'Altitude angel', 'Unit': 'rad'}, 'solDec': {'Description': 'Declination angle', 'Unit': 'rad'}, 'solTim': {'Description': 'Solar time', 'Unit': 's'}, 'solHouAng': {'Description': 'Solar hour angle.', 'Unit': 'rad'}, 'TDryBul': {'Description': 'Dry bulb temperature at ground level', 'Unit': 'K'}, 'TWetBul': {'Description': 'Wet bulb temperature', 'Unit': 'K'}, 'Occupancy[1]': {'Description': 'Number of occupants of zone', 'Unit': 'number of people'}, 'LowerSetp[1]': {'Description': 'Lower temperature set point for thermal comfort of zone', 'Unit': 'K'}, 'InternalGainsLat[1]': {'Description': 'Latent internal gains of zone', 'Unit': 'W'}, 'UpperSetp[1]': {'Description': 'Upper temperature set point for thermal comfort of zone', 'Unit': 'K'}, 'InternalGainsCon[1]': {'Description': 'Convective internal gains of zone', 'Unit': 'W'}, 'InternalGainsRad[1]': {'Description': 'Radiative internal gains of zone', 'Unit': 'W'}, 'UpperCO2[1]': {'Description': 'Upper CO2 set point for indoor air quality of zone', 'Unit': 'ppm'}, 'EmissionsElectricPower': {'Description': 'Kilograms of carbon dioxide to produce 1 kWh of electricity', 'Unit': 'kgCO2/kWh'}}\n",
            "{'time': [1890000, 1893600, 1897200, 1900800, 1904400, 1908000, 1911600], 'TDryBul': [278.85, 279.25, 279.95, 280.45, 281.05, 281.55, 281.75], 'PriceElectricPowerDynamic': [0.2666, 0.2666, 0.2383, 0.2383, 0.2383, 0.2383, 0.2383], 'Occupancy[1]': [5, 5, 5, 5, 5, 5, 5], 'UpperSetp[1]': [297.15, 297.15, 297.15, 297.15, 297.15, 297.15, 297.15], 'LowerSetp[1]': [294.15, 294.15, 294.15, 294.15, 294.15, 294.15, 294.15]}\n"
          ]
        }
      ]
    }
  ]
}